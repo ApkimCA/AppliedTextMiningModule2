{
 "cells": [
  {
   "cell_type": "markdown",
   "id": "227f7630",
   "metadata": {},
   "source": [
    "# Andrew Kim\n",
    "\n",
    "# ADS 509-01-SU23: Applied Text Mining\n",
    "\n",
    "# Assignment 2.1: Tokenization, Normalization, and Descriptive Statistics\n",
    "\n",
    "# 5/22/2023"
   ]
  },
  {
   "cell_type": "markdown",
   "id": "7f79baf9",
   "metadata": {},
   "source": [
    "This notebook holds Assignment 2.1 for Module 2 in ADS 509, Applied Text Mining. Work through this notebook, writing code and answering questions where required. \n",
    "\n",
    "In the previous assignment, you put together Twitter data and lyrics data on two artists. In this assignment, we explore some of the textual features of those data sets. If, for some reason, you did not complete that previous assignment, data to use for this assignment can be found in the assignment materials section of Blackboard. \n",
    "\n",
    "This assignment asks you to write a short function to calculate some descriptive statistics on a piece of text. Then you are asked to find some interesting and unique statistics on your corpora. \n"
   ]
  },
  {
   "cell_type": "markdown",
   "id": "aae8e2e1",
   "metadata": {},
   "source": [
    "## General Assignment Instructions\n",
    "\n",
    "These instructions are included in every assignment, to remind you of the coding standards for the class. Feel free to delete this cell after reading it. \n",
    "\n",
    "One sign of mature code is conforming to a style guide. We recommend the [Google Python Style Guide](https://google.github.io/styleguide/pyguide.html). If you use a different style guide, please include a cell with a link. \n",
    "\n",
    "Your code should be relatively easy-to-read, sensibly commented, and clean. Writing code is a messy process, so please be sure to edit your final submission. Remove any cells that are not needed or parts of cells that contain unnecessary code. Remove inessential `import` statements and make sure that all such statements are moved into the designated cell. \n",
    "\n",
    "Make use of non-code cells for written commentary. These cells should be grammatical and clearly written. In some of these cells you will have questions to answer. The questions will be marked by a \"Q:\" and will have a corresponding \"A:\" spot for you. *Make sure to answer every question marked with a `Q:` for full credit.* \n"
   ]
  },
  {
   "cell_type": "code",
   "execution_count": 1,
   "id": "e2d096b7",
   "metadata": {},
   "outputs": [],
   "source": [
    "# Load required packages\n",
    "import os\n",
    "import re\n",
    "import emoji\n",
    "import pandas as pd\n",
    "import numpy as np\n",
    "import string\n",
    "\n",
    "from collections import Counter, defaultdict\n",
    "from nltk.corpus import stopwords\n",
    "from string import punctuation\n",
    "\n",
    "sw = stopwords.words(\"english\")\n",
    "\n",
    "# Add any additional import statements you need here\n",
    "import glob\n",
    "import warnings\n",
    "warnings.filterwarnings('ignore')"
   ]
  },
  {
   "cell_type": "code",
   "execution_count": 2,
   "id": "923b5a86",
   "metadata": {},
   "outputs": [],
   "source": [
    "# change `data_location` to the location of the folder on your machine.\n",
    "data_location = \"C:/Users/andre/OneDrive/Documents/ADS509/textrepo/\"\n",
    "\n",
    "# These subfolders should still work if you correctly stored the data from the Module 1 assignment\n",
    "twitter_folder = \"twitter/\"\n",
    "lyrics_folder = \"lyrics/\""
   ]
  },
  {
   "cell_type": "code",
   "execution_count": 3,
   "id": "06522af9",
   "metadata": {},
   "outputs": [],
   "source": [
    "def descriptive_stats(tokens, num_tokens = 5, verbose=True) :\n",
    "    \"\"\"\n",
    "        Given a list of tokens, print number of tokens, number of unique tokens, \n",
    "        number of characters, lexical diversity (https://en.wikipedia.org/wiki/Lexical_diversity), \n",
    "        and num_tokens most common tokens. Return a list with the number of tokens, number\n",
    "        of unique tokens, lexical diversity, and number of characters. \n",
    "    \n",
    "    \"\"\"\n",
    "    # Fill in the correct values here. \n",
    "    num_tokens = len(tokens)\n",
    "    num_unique_tokens = len(set(tokens))\n",
    "    lexical_diversity = num_unique_tokens/num_tokens\n",
    "    num_characters = sum(len(i) for i in tokens)\n",
    "    \n",
    "    if verbose :        \n",
    "        print(f\"There are {num_tokens} tokens in the data.\")\n",
    "        print(f\"There are {num_unique_tokens} unique tokens in the data.\")\n",
    "        print(f\"There are {num_characters} characters in the data.\")\n",
    "        print(f\"The lexical diversity is {lexical_diversity:.3f} in the data.\")\n",
    "    \n",
    "        # print the five most common tokens\n",
    "        c = Counter(tokens)\n",
    "        top_five = c.most_common(5)\n",
    "        top_five_df = pd.DataFrame(top_five, columns= ['Token', 'Count'])\n",
    "        print(\"\\nFive Most Common Tokens: \\n\\n\", top_five_df)\n",
    "\n",
    "    return([num_tokens, num_unique_tokens,\n",
    "            lexical_diversity,\n",
    "            num_characters])"
   ]
  },
  {
   "cell_type": "code",
   "execution_count": 4,
   "id": "59dcf058",
   "metadata": {},
   "outputs": [
    {
     "name": "stdout",
     "output_type": "stream",
     "text": [
      "There are 13 tokens in the data.\n",
      "There are 9 unique tokens in the data.\n",
      "There are 55 characters in the data.\n",
      "The lexical diversity is 0.692 in the data.\n",
      "\n",
      "Five Most Common Tokens: \n",
      "\n",
      "      Token  Count\n",
      "0     text      3\n",
      "1     here      2\n",
      "2  example      2\n",
      "3       is      1\n",
      "4     some      1\n"
     ]
    }
   ],
   "source": [
    "text = \"\"\"here is some example text with other example text here in this text\"\"\".split()\n",
    "assert(descriptive_stats(text, verbose=True)[0] == 13)\n",
    "assert(descriptive_stats(text, verbose=False)[1] == 9)\n",
    "assert(abs(descriptive_stats(text, verbose=False)[2] - 0.69) < 0.02)\n",
    "assert(descriptive_stats(text, verbose=False)[3] == 55)"
   ]
  },
  {
   "cell_type": "markdown",
   "id": "d2e7e1a2",
   "metadata": {},
   "source": [
    "Q: Why is it beneficial to use assertion statements in your code? \n",
    "\n",
    "A: __Assertion statements enables users to test and detect the correctness of the codes and functions by analyzing if some specific conditions remain true.__"
   ]
  },
  {
   "cell_type": "markdown",
   "id": "9d3bf93e",
   "metadata": {},
   "source": [
    "## Data Input\n",
    "\n",
    "Now read in each of the corpora. For the lyrics data, it may be convenient to store the entire contents of the file to make it easier to inspect the titles individually, as you'll do in the last part of the assignment. In the solution, I stored the lyrics data in a dictionary with two dimensions of keys: artist and song. The value was the file contents. A data frame would work equally well. \n",
    "\n",
    "For the Twitter data, we only need the description field for this assignment. Feel free all the descriptions read it into a data structure. In the solution, I stored the descriptions as a dictionary of lists, with the key being the artist. \n",
    "\n",
    "\n"
   ]
  },
  {
   "cell_type": "code",
   "execution_count": 5,
   "id": "37d70801",
   "metadata": {},
   "outputs": [
    {
     "data": {
      "text/html": [
       "<div>\n",
       "<style scoped>\n",
       "    .dataframe tbody tr th:only-of-type {\n",
       "        vertical-align: middle;\n",
       "    }\n",
       "\n",
       "    .dataframe tbody tr th {\n",
       "        vertical-align: top;\n",
       "    }\n",
       "\n",
       "    .dataframe thead th {\n",
       "        text-align: right;\n",
       "    }\n",
       "</style>\n",
       "<table border=\"1\" class=\"dataframe\">\n",
       "  <thead>\n",
       "    <tr style=\"text-align: right;\">\n",
       "      <th></th>\n",
       "      <th>Artist</th>\n",
       "      <th>Song</th>\n",
       "      <th>Lyrics</th>\n",
       "    </tr>\n",
       "  </thead>\n",
       "  <tbody>\n",
       "    <tr>\n",
       "      <th>0</th>\n",
       "      <td>eltonjohn</td>\n",
       "      <td>\"All Across The Havens\"</td>\n",
       "      <td>The sister of sunlight Comes to my lonely l...</td>\n",
       "    </tr>\n",
       "    <tr>\n",
       "      <th>1</th>\n",
       "      <td>eltonjohn</td>\n",
       "      <td>\"Border Song\"</td>\n",
       "      <td>Holy Moses, I have been removed I have seen...</td>\n",
       "    </tr>\n",
       "    <tr>\n",
       "      <th>2</th>\n",
       "      <td>eltonjohn</td>\n",
       "      <td>\"Empty Sky\"</td>\n",
       "      <td>I'm not a rat to be spat on, locked up in t...</td>\n",
       "    </tr>\n",
       "    <tr>\n",
       "      <th>3</th>\n",
       "      <td>eltonjohn</td>\n",
       "      <td>\"First Episode At Hienton\"</td>\n",
       "      <td>I was one as you were one And we were two s...</td>\n",
       "    </tr>\n",
       "    <tr>\n",
       "      <th>4</th>\n",
       "      <td>eltonjohn</td>\n",
       "      <td>\"Gulliver\"</td>\n",
       "      <td>Gulliver's gone to the final command of his...</td>\n",
       "    </tr>\n",
       "    <tr>\n",
       "      <th>5</th>\n",
       "      <td>eltonjohn</td>\n",
       "      <td>\"Hymn 2000\"</td>\n",
       "      <td>She chose the soft center And took it to be...</td>\n",
       "    </tr>\n",
       "    <tr>\n",
       "      <th>6</th>\n",
       "      <td>eltonjohn</td>\n",
       "      <td>\"I Need You To Turn To\"</td>\n",
       "      <td>You're not a ship to carry my life You are ...</td>\n",
       "    </tr>\n",
       "    <tr>\n",
       "      <th>7</th>\n",
       "      <td>eltonjohn</td>\n",
       "      <td>\"It's Me That You Need\"</td>\n",
       "      <td>Hey there Look in the mirror Are you afraid...</td>\n",
       "    </tr>\n",
       "    <tr>\n",
       "      <th>8</th>\n",
       "      <td>eltonjohn</td>\n",
       "      <td>\"Just Like Strange Rain\"</td>\n",
       "      <td>I looked up from my glass into the sky Ther...</td>\n",
       "    </tr>\n",
       "    <tr>\n",
       "      <th>9</th>\n",
       "      <td>eltonjohn</td>\n",
       "      <td>\"Lady Samantha\"</td>\n",
       "      <td>When the shrill winds are screaming And the...</td>\n",
       "    </tr>\n",
       "  </tbody>\n",
       "</table>\n",
       "</div>"
      ],
      "text/plain": [
       "      Artist                        Song  \\\n",
       "0  eltonjohn     \"All Across The Havens\"   \n",
       "1  eltonjohn               \"Border Song\"   \n",
       "2  eltonjohn                 \"Empty Sky\"   \n",
       "3  eltonjohn  \"First Episode At Hienton\"   \n",
       "4  eltonjohn                  \"Gulliver\"   \n",
       "5  eltonjohn                 \"Hymn 2000\"   \n",
       "6  eltonjohn     \"I Need You To Turn To\"   \n",
       "7  eltonjohn     \"It's Me That You Need\"   \n",
       "8  eltonjohn    \"Just Like Strange Rain\"   \n",
       "9  eltonjohn             \"Lady Samantha\"   \n",
       "\n",
       "                                              Lyrics  \n",
       "0     The sister of sunlight Comes to my lonely l...  \n",
       "1     Holy Moses, I have been removed I have seen...  \n",
       "2     I'm not a rat to be spat on, locked up in t...  \n",
       "3     I was one as you were one And we were two s...  \n",
       "4     Gulliver's gone to the final command of his...  \n",
       "5     She chose the soft center And took it to be...  \n",
       "6     You're not a ship to carry my life You are ...  \n",
       "7     Hey there Look in the mirror Are you afraid...  \n",
       "8     I looked up from my glass into the sky Ther...  \n",
       "9     When the shrill winds are screaming And the...  "
      ]
     },
     "execution_count": 5,
     "metadata": {},
     "output_type": "execute_result"
    }
   ],
   "source": [
    "# Read in the lyrics data\n",
    "artists = [\"eltonjohn\", \"nirvana\"]\n",
    "lyrics_filepaths = []\n",
    "artist_list = []\n",
    "\n",
    "for i in artists:\n",
    "\n",
    "    # Set file path for the artists (lyrics) selected\n",
    "    path = data_location + lyrics_folder + i\n",
    "\n",
    "    # Use glob to retrieve file paths recursively from inside the directories/files\n",
    "    txt_files = glob.glob(os.path.normpath(os.path.join(path, \"*.txt\")))\n",
    "\n",
    "    # Create the artists (lyrics) list for df\n",
    "    temp_list = [i] * len(txt_files)\n",
    "    artist_list = artist_list + temp_list\n",
    "\n",
    "    # Combine the artists filepaths\n",
    "    lyrics_filepaths = lyrics_filepaths + txt_files\n",
    "\n",
    "lyrics_list = []\n",
    "song_list = []\n",
    "\n",
    "for file in lyrics_filepaths:\n",
    "\n",
    "    # Song\n",
    "    file_temp = open(file, \"r\")\n",
    "    title = file_temp.readline().rstrip()\n",
    "    song_list.append(title)\n",
    "\n",
    "    # Lyrics\n",
    "    list = file_temp.readlines()[1:]\n",
    "    lyrics = \"\".join(list)\n",
    "    lyrics = lyrics.replace('\\n', \" \")\n",
    "    lyrics_list.append(lyrics)\n",
    "    file_temp.close()\n",
    "\n",
    "# Convert to df\n",
    "dict = {'Artist': artist_list, 'Song': song_list, 'Lyrics': lyrics_list}\n",
    "lyrics_df = pd.DataFrame(dict)\n",
    "\n",
    "lyrics_df.head(10)"
   ]
  },
  {
   "cell_type": "code",
   "execution_count": 6,
   "id": "debcac5a",
   "metadata": {},
   "outputs": [
    {
     "data": {
      "text/html": [
       "<div>\n",
       "<style scoped>\n",
       "    .dataframe tbody tr th:only-of-type {\n",
       "        vertical-align: middle;\n",
       "    }\n",
       "\n",
       "    .dataframe tbody tr th {\n",
       "        vertical-align: top;\n",
       "    }\n",
       "\n",
       "    .dataframe thead th {\n",
       "        text-align: right;\n",
       "    }\n",
       "</style>\n",
       "<table border=\"1\" class=\"dataframe\">\n",
       "  <thead>\n",
       "    <tr style=\"text-align: right;\">\n",
       "      <th></th>\n",
       "      <th>screen_name</th>\n",
       "      <th>name</th>\n",
       "      <th>id</th>\n",
       "      <th>location</th>\n",
       "      <th>followers_count</th>\n",
       "      <th>friends_count</th>\n",
       "      <th>description</th>\n",
       "      <th>artist</th>\n",
       "    </tr>\n",
       "  </thead>\n",
       "  <tbody>\n",
       "    <tr>\n",
       "      <th>0</th>\n",
       "      <td>hsmcnp</td>\n",
       "      <td>Country Girl</td>\n",
       "      <td>35152213</td>\n",
       "      <td></td>\n",
       "      <td>1302</td>\n",
       "      <td>1014</td>\n",
       "      <td>None</td>\n",
       "      <td>cher</td>\n",
       "    </tr>\n",
       "    <tr>\n",
       "      <th>1</th>\n",
       "      <td>horrormomy</td>\n",
       "      <td>Jeny</td>\n",
       "      <td>742153090850164742</td>\n",
       "      <td>Earth</td>\n",
       "      <td>81</td>\n",
       "      <td>514</td>\n",
       "      <td>𝙿𝚛𝚘𝚞𝚍 𝚜𝚞𝚙𝚙𝚘𝚛𝚝𝚎𝚛 𝚘𝚏 𝚖𝚎𝚜𝚜𝚢 𝚋𝚞𝚗𝚜 &amp; 𝚕𝚎𝚐𝚐𝚒𝚗𝚐𝚜</td>\n",
       "      <td>cher</td>\n",
       "    </tr>\n",
       "    <tr>\n",
       "      <th>2</th>\n",
       "      <td>anju79990584</td>\n",
       "      <td>anju</td>\n",
       "      <td>1496463006451974150</td>\n",
       "      <td></td>\n",
       "      <td>13</td>\n",
       "      <td>140</td>\n",
       "      <td>163㎝／愛かっぷ💜26歳🍒 工〇好きな女の子💓 フォローしてくれたらDMします🧡</td>\n",
       "      <td>cher</td>\n",
       "    </tr>\n",
       "    <tr>\n",
       "      <th>3</th>\n",
       "      <td>gallionjenna</td>\n",
       "      <td>J</td>\n",
       "      <td>3366479914</td>\n",
       "      <td></td>\n",
       "      <td>752</td>\n",
       "      <td>556</td>\n",
       "      <td>csu</td>\n",
       "      <td>cher</td>\n",
       "    </tr>\n",
       "    <tr>\n",
       "      <th>4</th>\n",
       "      <td>bcscomm</td>\n",
       "      <td>bcscomm</td>\n",
       "      <td>83915043</td>\n",
       "      <td>Washington, DC</td>\n",
       "      <td>888</td>\n",
       "      <td>2891</td>\n",
       "      <td>Writer @Washinformer @SpelmanCollege alumna #D...</td>\n",
       "      <td>cher</td>\n",
       "    </tr>\n",
       "  </tbody>\n",
       "</table>\n",
       "</div>"
      ],
      "text/plain": [
       "    screen_name          name                   id        location  \\\n",
       "0        hsmcnp  Country Girl             35152213                   \n",
       "1    horrormomy          Jeny   742153090850164742           Earth   \n",
       "2  anju79990584          anju  1496463006451974150                   \n",
       "3  gallionjenna             J           3366479914                   \n",
       "4       bcscomm       bcscomm             83915043  Washington, DC   \n",
       "\n",
       "  followers_count friends_count  \\\n",
       "0            1302          1014   \n",
       "1              81           514   \n",
       "2              13           140   \n",
       "3             752           556   \n",
       "4             888          2891   \n",
       "\n",
       "                                         description artist  \n",
       "0                                               None   cher  \n",
       "1           𝙿𝚛𝚘𝚞𝚍 𝚜𝚞𝚙𝚙𝚘𝚛𝚝𝚎𝚛 𝚘𝚏 𝚖𝚎𝚜𝚜𝚢 𝚋𝚞𝚗𝚜 & 𝚕𝚎𝚐𝚐𝚒𝚗𝚐𝚜   cher  \n",
       "2          163㎝／愛かっぷ💜26歳🍒 工〇好きな女の子💓 フォローしてくれたらDMします🧡   cher  \n",
       "3                                                csu   cher  \n",
       "4  Writer @Washinformer @SpelmanCollege alumna #D...   cher  "
      ]
     },
     "execution_count": 6,
     "metadata": {},
     "output_type": "execute_result"
    }
   ],
   "source": [
    "# Read in the twitter data \n",
    "twitter_location = data_location + twitter_folder\n",
    "twitter_filepaths = glob.glob(os.path.normpath(os.path.join(twitter_location, \"*followers_data.txt\")))\n",
    "res = []\n",
    "artist_list = []\n",
    "\n",
    "for file in twitter_filepaths:\n",
    "\n",
    "    file_temp = open(file, \"r\")\n",
    "    colnames = file_temp.readline().rstrip().split('\\t')\n",
    "    lines = file_temp.readlines()\n",
    "    \n",
    "    for x in lines:\n",
    "        text_temp = x.rstrip().split('\\t')\n",
    "        res.append(text_temp)\n",
    "\n",
    "        # Retrieve the artists for df\n",
    "        art_temp = file[file.rindex('\\\\')+1:]\n",
    "        artist = art_temp.split('_followers')[0]\n",
    "        artist_list.append(artist)\n",
    "        \n",
    "    file_temp.close\n",
    "\n",
    "# Create df\n",
    "twitter_df = pd.DataFrame(res, columns=colnames)\n",
    "twitter_df['artist'] = artist_list\n",
    "twitter_df.head()"
   ]
  },
  {
   "cell_type": "code",
   "execution_count": null,
   "id": "567f3ffd",
   "metadata": {},
   "outputs": [],
   "source": []
  },
  {
   "cell_type": "markdown",
   "id": "6a5f3b12",
   "metadata": {},
   "source": [
    "## Data Cleaning\n",
    "\n",
    "Now clean and tokenize your data. Remove punctuation chacters (available in the `punctuation` object in the `string` library), split on whitespace, fold to lowercase, and remove stopwords. Store your cleaned data, which must be accessible as an interable for `descriptive_stats`, in new objects or in new columns in your data frame. \n",
    "\n"
   ]
  },
  {
   "cell_type": "code",
   "execution_count": 7,
   "id": "f94aa90e",
   "metadata": {},
   "outputs": [],
   "source": [
    "punctuation = set(punctuation) # speeds up comparison\n",
    "\n",
    "# First, clean the twitter data.\n",
    "twitter_clean_df = twitter_df.copy()\n",
    "\n",
    "# Tokenize and remove any data missing, punctuations, and lowercase words within the 'description' category\n",
    "twitter_clean_df = twitter_clean_df.dropna()\n",
    "twitter_clean_df['description'] = twitter_clean_df['description'].str.replace('[{}]'.format(string.punctuation), \n",
    "                                                                              '')\n",
    "twitter_clean_df['description'] = twitter_clean_df['description'].str.lower()\n",
    "twitter_clean_df['description'] = twitter_clean_df['description'].str.split()\n",
    "\n",
    "# Remove stopwords to reduce dataset size and training time\n",
    "stop_words = stopwords.words('english')\n",
    "tweet_nostop = twitter_clean_df['description'].apply(lambda x: [item for item in x if item not in stop_words])\n",
    "twitter_clean_df['description'] = tweet_nostop"
   ]
  },
  {
   "cell_type": "code",
   "execution_count": 8,
   "id": "fc727c23",
   "metadata": {},
   "outputs": [],
   "source": [
    "# Now, clean the lyrics data\n",
    "lyrics_clean_df = lyrics_df.copy()\n",
    "\n",
    "lyrics_clean_df = lyrics_clean_df.dropna()\n",
    "lyrics_clean_df['Lyrics'] = lyrics_clean_df['Lyrics'].str.replace('[{}]'.format(string.punctuation), '')\n",
    "lyrics_clean_df['Lyrics'] = lyrics_clean_df['Lyrics'].str.lower()\n",
    "lyrics_clean_df['Lyrics'] = lyrics_clean_df['Lyrics'].str.split()\n",
    "\n",
    "stop_words = stopwords.words('english')\n",
    "lyric_nostop = lyrics_clean_df['Lyrics'].apply(lambda x: [item for item in x if item not in stop_words])\n",
    "lyrics_clean_df['Lyrics'] = lyric_nostop"
   ]
  },
  {
   "cell_type": "markdown",
   "id": "f2dd0179",
   "metadata": {},
   "source": [
    "## Basic Descriptive Statistics\n",
    "\n",
    "Call your `descriptive_stats` function on both your lyrics data and your twitter data and for both artists (four total calls)."
   ]
  },
  {
   "cell_type": "code",
   "execution_count": 9,
   "id": "bc17317a",
   "metadata": {},
   "outputs": [
    {
     "name": "stdout",
     "output_type": "stream",
     "text": [
      "Elton John Lyrics Results:\n",
      "\n",
      "There are 2350 tokens in the data.\n",
      "There are 825 unique tokens in the data.\n",
      "There are 11311 characters in the data.\n",
      "The lexical diversity is 0.351 in the data.\n",
      "\n",
      "Five Most Common Tokens: \n",
      "\n",
      "   Token  Count\n",
      "0    na    121\n",
      "1  take     31\n",
      "2  rain     23\n",
      "3  like     22\n",
      "4   one     22\n",
      "[2350, 825, 0.35106382978723405, 11311]\n",
      "\n",
      "Nirvana Lyrics Results:\n",
      "\n",
      "There are 2157 tokens in the data.\n",
      "There are 482 unique tokens in the data.\n",
      "There are 10362 characters in the data.\n",
      "The lexical diversity is 0.223 in the data.\n",
      "\n",
      "Five Most Common Tokens: \n",
      "\n",
      "   Token  Count\n",
      "0  dont     85\n",
      "1    im     79\n",
      "2  girl     52\n",
      "3  yeah     48\n",
      "4  said     38\n",
      "[2157, 482, 0.22345850718590635, 10362]\n"
     ]
    }
   ],
   "source": [
    "# calls to descriptive_stats here\n",
    "\n",
    "# twitter - cher\n",
    "# cher = twitter_clean[twitter_clean['artist'] == 'cher']\n",
    "# cher_corpus = [element for list_ in cher['description'].values for element in list_]\n",
    "# print(\"\\nCher Twitter Results:\\n\")\n",
    "# print(descriptive_stats(cher_corpus))\n",
    "\n",
    "# twitter - robynkonichiwa\n",
    "# rob = twitter_clean[twitter_clean['artist'] == 'robynkonichiwa']\n",
    "# rob_corpus = [element for list_ in rob['description'].values for element in list_]\n",
    "# print(\"\\nrobynkonichiwa Twitter Results:\\n\")\n",
    "# print(descriptive_stats(rob_corpus))\n",
    "\n",
    "# lyrics - Elton John\n",
    "eltonjohn = lyrics_clean_df[lyrics_clean_df['Artist'] == 'eltonjohn']\n",
    "eltonjohn_corpus = [element for list_ in eltonjohn['Lyrics'].values for element in list_]\n",
    "print(\"Elton John Lyrics Results:\\n\")\n",
    "print(descriptive_stats(eltonjohn_corpus))\n",
    "\n",
    "# lyrics - Nirvana\n",
    "nirvana = lyrics_clean_df[lyrics_clean_df['Artist'] == 'nirvana']\n",
    "nirvana_corpus = [element for list_ in nirvana['Lyrics'].values for element in list_]\n",
    "print(\"\\nNirvana Lyrics Results:\\n\")\n",
    "print(descriptive_stats(nirvana_corpus))"
   ]
  },
  {
   "cell_type": "markdown",
   "id": "46294409",
   "metadata": {},
   "source": [
    "Q: How do you think the \"top 5 words\" would be different if we left stopwords in the data? \n",
    "\n",
    "A: __A key difference that would be noted towards the top 5 words if the stopwords were left in the data would be that the data or list of top 5 words would contain words that are noisy or misproperly formatted. Leaving stop words would not add analytical context towards the information within the data that are important and they would not enable users to assess the context of a sentence.__ \n",
    "\n",
    "Q: What were your prior beliefs about the lexical diversity between the artists? Does the difference (or lack thereof) in lexical diversity between the artists conform to your prior beliefs? \n",
    "\n",
    "A: __My initial belief prior to this assignment was that each of the artists would generate a high amount of lexical diversity amongst each of their respective songs and lyrcis. After analyzing, dissecting, and cleaning the data between the artists, I am surprised that there is not much lexical diversity amongst the artists. Another note that surprised me was the number of token words that generated while not in proper format, which leads to the idea of labeling the words as stop words and tokenizing them while cleaning the data more in the future.__"
   ]
  },
  {
   "cell_type": "markdown",
   "id": "4d4e1ac1",
   "metadata": {},
   "source": [
    "\n",
    "## Specialty Statistics\n",
    "\n",
    "The descriptive statistics we have calculated are quite generic. You will now calculate a handful of statistics tailored to these data.\n",
    "\n",
    "1. Ten most common emojis by artist in the twitter descriptions.\n",
    "1. Ten most common hashtags by artist in the twitter descriptions.\n",
    "1. Five most common words in song titles by artist. \n",
    "1. For each artist, a histogram of song lengths (in terms of number of tokens) \n",
    "\n",
    "We can use the `emoji` library to help us identify emojis and you have been given a function to help you.\n"
   ]
  },
  {
   "cell_type": "code",
   "execution_count": 10,
   "id": "753a5a3e",
   "metadata": {},
   "outputs": [],
   "source": [
    "assert(emoji.is_emoji(\"❤️\"))\n",
    "assert(not emoji.is_emoji(\":-)\"))"
   ]
  },
  {
   "cell_type": "markdown",
   "id": "986fc4c0",
   "metadata": {},
   "source": [
    "### Emojis 😁\n",
    "\n",
    "What are the ten most common emojis by artist in the twitter descriptions? \n"
   ]
  },
  {
   "cell_type": "code",
   "execution_count": 11,
   "id": "269cd433",
   "metadata": {},
   "outputs": [
    {
     "name": "stdout",
     "output_type": "stream",
     "text": [
      "cher Emoji Results:\n",
      " emoji\n",
      "['♥']    10152\n",
      "['❤']     9653\n",
      "['✨']     8343\n",
      "['🌈']     5482\n",
      "['💙']     3685\n",
      "['💜']     3499\n",
      "['🌊']     3291\n",
      "['💕']     3259\n",
      "['🖤']     2937\n",
      "['🎶']     2384\n",
      "Name: emoji, dtype: int64\n",
      "\n",
      "robynkonichiwa Emoji Results:\n",
      " emoji\n",
      "['♥']    1166\n",
      "['✨']     751\n",
      "['❤']     652\n",
      "['🌈']     570\n",
      "['🎶']     272\n",
      "['🎧']     213\n",
      "['🖤']     212\n",
      "['💜']     205\n",
      "['💙']     181\n",
      "['🐶']     166\n",
      "Name: emoji, dtype: int64\n"
     ]
    }
   ],
   "source": [
    "# cher\n",
    "emoji_list = emoji.emoji_list(cher_corpus)\n",
    "emoji_df = pd.DataFrame(emoji_list)\n",
    "emoji_df['emoji'] = emoji_df['emoji'].astype(str)\n",
    "cher_res = emoji_df.groupby('emoji')['emoji'].count().sort_values(ascending=False).head(10)\n",
    "print('cher Emoji Results:\\n', cher_res)\n",
    "\n",
    "# robynkonichiwa\n",
    "emoji_list = emoji.emoji_list(rob_corpus)\n",
    "emoji_df = pd.DataFrame(emoji_list)\n",
    "emoji_df['emoji'] = emoji_df['emoji'].astype(str)\n",
    "rob_res = emoji_df.groupby('emoji')['emoji'].count().sort_values(ascending=False).head(10)\n",
    "print('\\nrobynkonichiwa Emoji Results:\\n', rob_res)"
   ]
  },
  {
   "cell_type": "markdown",
   "id": "bab9b770",
   "metadata": {},
   "source": [
    "### Hashtags\n",
    "\n",
    "What are the ten most common hashtags by artist in the twitter descriptions? \n"
   ]
  },
  {
   "cell_type": "code",
   "execution_count": 18,
   "id": "07c396f1",
   "metadata": {},
   "outputs": [
    {
     "name": "stdout",
     "output_type": "stream",
     "text": [
      "Cher Hashtag Results:\n",
      "\n",
      "              hashtags  count\n",
      "29             #resist   9558\n",
      "14                #blm   8753\n",
      "3    #blacklivesmatter   7432\n",
      "45                #fbr   2922\n",
      "1       #theresistance   2883\n",
      "85         #resistance   2405\n",
      "105                 #1   2226\n",
      "86                   #   1965\n",
      "249          #voteblue   1897\n",
      "528             #lgbtq   1457\n",
      "\n",
      "robynknoichiwa Hashtag Results:\n",
      "\n",
      "              hashtags  count\n",
      "71   #blacklivesmatter    563\n",
      "29                #blm    324\n",
      "105             #music    260\n",
      "39                  #1    187\n",
      "871                  #    150\n",
      "573    #teamfollowback    117\n",
      "767               #edm    104\n",
      "240            #resist     76\n",
      "540       #freebritney     63\n",
      "392             #lgbtq     58\n"
     ]
    }
   ],
   "source": [
    "twitter_ht = twitter_df.copy()\n",
    "twitter_ht = twitter_ht.dropna()\n",
    "twitter_ht['description'] = twitter_ht['description'].str.lower()\n",
    "twitter_ht['description'] = twitter_ht['description'].str.split()\n",
    "\n",
    "cher_ht = twitter_ht[twitter_ht['artist'] == 'cher']\n",
    "cher_corpus_ht = [element for list_ in cher_ht['description'].values for element in list_]\n",
    "\n",
    "rob_ht = twitter_ht[twitter_ht['artist'] == 'robynkonichiwa']\n",
    "rob_corpus_ht = [element for list_ in rob_ht['description'].values for element in list_]\n",
    "\n",
    "#cher\n",
    "cher_ht_list = [i for i in cher_corpus_ht if i.startswith(\"#\")]\n",
    "cher_count = Counter(cher_ht_list)\n",
    "df = pd.DataFrame.from_dict(cher_count, orient='index').reset_index()\n",
    "df = df.rename(columns={'index' : 'hashtags', 0:'count'})\n",
    "\n",
    "cher_res = df.sort_values(by='count', ascending=False).head(10)\n",
    "print(\"Cher Hashtag Results:\\n\")\n",
    "print(cher_res)\n",
    "\n",
    "# robynkonichiwa\n",
    "rob_ht_list = [i for i in rob_corpus_ht if i.startswith(\"#\")]\n",
    "rob_count = Counter(rob_ht_list)\n",
    "df = pd.DataFrame.from_dict(rob_count, orient='index').reset_index()\n",
    "df = df.rename(columns={'index' : 'hashtags', 0:'count'})\n",
    "\n",
    "rob_res = df.sort_values(by='count', ascending=False).head(10)\n",
    "print(\"\\nrobynknoichiwa Hashtag Results:\\n\")\n",
    "print(rob_res)"
   ]
  },
  {
   "cell_type": "markdown",
   "id": "d10f21d5",
   "metadata": {},
   "source": [
    "### Song Titles\n",
    "\n",
    "What are the five most common words in song titles by artist? The song titles should be on the first line of the lyrics pages, so if you have kept the raw file contents around, you will not need to re-read the data.\n"
   ]
  },
  {
   "cell_type": "code",
   "execution_count": 12,
   "id": "bb69b36b",
   "metadata": {},
   "outputs": [],
   "source": [
    "stitle_clean = lyrics_df.copy()\n",
    "stitle_clean = stitle_clean.dropna()\n",
    "stitle_clean['Song'] = stitle_clean['Song'].str.replace('[{}]'.format(string.punctuation), '')\n",
    "stitle_clean['Song'] = stitle_clean['Song'].str.lower()\n",
    "stitle_clean['Song'] = stitle_clean['Song'].str.split()\n",
    "\n",
    "stop_words = stopwords.words('english')\n",
    "stitle_nostop = stitle_clean['Song'].apply(lambda x: [item for item in x if item not in stop_words])\n",
    "stitle_clean['Song'] = stitle_nostop\n",
    "\n",
    "# elton john\n",
    "eltonjohn = stitle_clean[stitle_clean['Artist'] == 'eltonjohn']\n",
    "eltonjohn_corpus = [element for list_ in eltonjohn['Song'].values for element in list_]\n",
    "\n",
    "# nirvana\n",
    "nirvana = stitle_clean[stitle_clean['Artist'] == 'nirvana']\n",
    "nirvana_corpus = [element for list_ in nirvana['Song'].values for element in list_]"
   ]
  },
  {
   "cell_type": "code",
   "execution_count": 13,
   "id": "8b19fe86",
   "metadata": {},
   "outputs": [
    {
     "name": "stdout",
     "output_type": "stream",
     "text": [
      "Elton JOhn Title Results:\n",
      "\n",
      "       word  count\n",
      "17     lady      2\n",
      "3      song      2\n",
      "12     need      2\n",
      "0    across      1\n",
      "27  skyline      1\n",
      "22  strings      1\n",
      "23   louise      1\n",
      "24    sails      1\n",
      "25    sixty      1\n",
      "26    years      1\n",
      "\n",
      "Nirvana Song Title Results:\n",
      "\n",
      "           word  count\n",
      "0          girl      1\n",
      "16        creep      1\n",
      "29  territorial      1\n",
      "28         meet      1\n",
      "27         swap      1\n",
      "26       spirit      1\n",
      "25         teen      1\n",
      "24         like      1\n",
      "23       smells      1\n",
      "22      sifting      1\n"
     ]
    }
   ],
   "source": [
    "# elton john\n",
    "eltonjohn_wordcount = Counter(eltonjohn_corpus)\n",
    "df = pd.DataFrame.from_dict(eltonjohn_wordcount, orient='index').reset_index()\n",
    "df = df.rename(columns={'index' : 'word', 0:'count'})\n",
    "\n",
    "eltonjohn = df.sort_values(by='count', ascending=False).head(10)\n",
    "print(\"Elton JOhn Title Results:\\n\")\n",
    "print(eltonjohn)\n",
    "\n",
    "# nirvana\n",
    "nirvana_wordcount = Counter(nirvana_corpus)\n",
    "df = pd.DataFrame.from_dict(nirvana_wordcount, orient='index').reset_index()\n",
    "df = df.rename(columns={'index' : 'word', 0:'count'})\n",
    "\n",
    "nirvana = df.sort_values(by='count', ascending=False).head(10)\n",
    "print(\"\\nNirvana Song Title Results:\\n\")\n",
    "print(nirvana)"
   ]
  },
  {
   "cell_type": "markdown",
   "id": "5dd4fd71",
   "metadata": {},
   "source": [
    "### Song Lengths\n",
    "\n",
    "For each artist, a histogram of song lengths (in terms of number of tokens). If you put the song lengths in a data frame with an artist column, matplotlib will make the plotting quite easy. An example is given to help you out. \n"
   ]
  },
  {
   "cell_type": "code",
   "execution_count": 14,
   "id": "805a1e52",
   "metadata": {},
   "outputs": [
    {
     "data": {
      "text/plain": [
       "artist\n",
       "Artist 1    AxesSubplot(0.125,0.125;0.775x0.755)\n",
       "Artist 2    AxesSubplot(0.125,0.125;0.775x0.755)\n",
       "Name: length, dtype: object"
      ]
     },
     "execution_count": 14,
     "metadata": {},
     "output_type": "execute_result"
    },
    {
     "data": {
      "image/png": "[encoded data removed]",
      "text/plain": [
       "<Figure size 432x288 with 1 Axes>"
      ]
     },
     "metadata": {
      "needs_background": "light"
     },
     "output_type": "display_data"
    }
   ],
   "source": [
    "num_replicates = 1000\n",
    "\n",
    "df = pd.DataFrame({\n",
    "    \"artist\" : ['Artist 1'] * num_replicates + ['Artist 2']*num_replicates,\n",
    "    \"length\" : np.concatenate((np.random.poisson(125,num_replicates),np.random.poisson(150,num_replicates)))\n",
    "})\n",
    "\n",
    "df.groupby('artist')['length'].plot(kind=\"hist\",density=True,alpha=0.5,legend=True)"
   ]
  },
  {
   "cell_type": "markdown",
   "id": "8fde9ebb",
   "metadata": {},
   "source": [
    "Since the lyrics may be stored with carriage returns or tabs, it may be useful to have a function that can collapse whitespace, using regular expressions, and be used for splitting. \n",
    "\n",
    "Q: What does the regular expression `'\\s+'` match on? \n",
    "\n",
    "A: __The `'\\s+'` regular expression matches on to one or more whitespace characters.__"
   ]
  },
  {
   "cell_type": "code",
   "execution_count": 15,
   "id": "f0e34516",
   "metadata": {},
   "outputs": [],
   "source": [
    "collapse_whitespace = re.compile(r'\\s+')\n",
    "\n",
    "def tokenize_lyrics(lyric) : \n",
    "    \"\"\"strip and split on whitespace\"\"\"\n",
    "    return([item.lower() for item in collapse_whitespace.split(lyric)])"
   ]
  },
  {
   "cell_type": "code",
   "execution_count": 17,
   "id": "2294c440",
   "metadata": {},
   "outputs": [
    {
     "data": {
      "text/plain": [
       "Artist\n",
       "eltonjohn    AxesSubplot(0.125,0.125;0.775x0.755)\n",
       "nirvana      AxesSubplot(0.125,0.125;0.775x0.755)\n",
       "Name: length, dtype: object"
      ]
     },
     "execution_count": 17,
     "metadata": {},
     "output_type": "execute_result"
    },
    {
     "data": {
      "image/png": "[encoded data removed]",
      "text/plain": [
       "<Figure size 432x288 with 1 Axes>"
      ]
     },
     "metadata": {
      "needs_background": "light"
     },
     "output_type": "display_data"
    }
   ],
   "source": [
    "# lyric length comparison chart\n",
    "hist_df = lyrics_df.copy()\n",
    "\n",
    "# Tokenize for song/lyric length\n",
    "hist_df['Lyrics'] = hist_df['Lyrics'].apply(tokenize_lyrics)\n",
    "hist_df['length'] = hist_df['Lyrics'].apply(len)\n",
    "\n",
    "# Plot histogram\n",
    "hist_df.groupby('Artist')['length'].plot(kind=\"hist\",density=True,alpha=0.5,legend=True)"
   ]
  },
  {
   "cell_type": "code",
   "execution_count": null,
   "id": "f4034883",
   "metadata": {},
   "outputs": [],
   "source": []
  }
 ],
 "metadata": {
  "kernelspec": {
   "display_name": "Python 3 (ipykernel)",
   "language": "python",
   "name": "python3"
  },
  "language_info": {
   "codemirror_mode": {
    "name": "ipython",
    "version": 3
   },
   "file_extension": ".py",
   "mimetype": "text/x-python",
   "name": "python",
   "nbconvert_exporter": "python",
   "pygments_lexer": "ipython3",
   "version": "3.8.8"
  }
 },
 "nbformat": 4,
 "nbformat_minor": 5
}
